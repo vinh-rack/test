{
 "cells": [
  {
   "cell_type": "markdown",
   "id": "cdc460ab",
   "metadata": {},
   "source": [
    "# **Database Connection Tests**\n",
    "\n",
    "---"
   ]
  },
  {
   "cell_type": "markdown",
   "id": "24f217d4",
   "metadata": {},
   "source": [
    "## **1. Imports**"
   ]
  },
  {
   "cell_type": "code",
   "execution_count": 1,
   "id": "9c68858a",
   "metadata": {},
   "outputs": [],
   "source": [
    "import os\n",
    "import sys\n",
    "\n",
    "sys.path.append(os.path.abspath(os.path.join(os.getcwd(), \"..\")))"
   ]
  },
  {
   "cell_type": "code",
   "execution_count": null,
   "id": "3ea42002",
   "metadata": {},
   "outputs": [],
   "source": [
    "import asyncio\n",
    "import pytest\n",
    "\n",
    "from db.db_connection import DbConnectionAsync\n",
    "from db.connection_string import create_connection_string\n",
    "from utils.config import settings"
   ]
  },
  {
   "cell_type": "markdown",
   "id": "d6c6b9eb",
   "metadata": {},
   "source": [
    "## **2. Tests**"
   ]
  },
  {
   "cell_type": "code",
   "execution_count": 3,
   "id": "7235bbc6",
   "metadata": {},
   "outputs": [],
   "source": [
    "# Use in-memory SQLite for tests\n",
    "TEST_CONN_STRING = create_connection_string(\n",
    "    db_type=\"mssql\",\n",
    "    database=settings.mssql_db,\n",
    "    host=settings.host,\n",
    "    port=int(settings.mssql_port),\n",
    "    user=settings.user,\n",
    "    password=settings.mssql_password,\n",
    ")"
   ]
  },
  {
   "cell_type": "code",
   "execution_count": 4,
   "id": "04ff6ad0",
   "metadata": {},
   "outputs": [],
   "source": [
    "@pytest.mark.asyncio\n",
    "async def test_connect_and_close():\n",
    "    db = DbConnectionAsync(TEST_CONN_STRING, timeout=1)\n",
    "    await db.connect()\n",
    "    assert db.conn is not None\n",
    "    assert not db.conn.closed\n",
    "\n",
    "    await db.close()\n",
    "    assert db.conn.closed"
   ]
  },
  {
   "cell_type": "code",
   "execution_count": 5,
   "id": "7420c2a4",
   "metadata": {},
   "outputs": [],
   "source": [
    "@pytest.mark.asyncio\n",
    "async def test_execute_creates_connection():\n",
    "    db = DbConnectionAsync(TEST_CONN_STRING, timeout=1)\n",
    "    result = await db.execute(\"SELECT 1 AS x\")\n",
    "    row = result.fetchone()\n",
    "    assert row[0] == 1\n",
    "    await db.close()"
   ]
  },
  {
   "cell_type": "code",
   "execution_count": 6,
   "id": "3e5b9ad5",
   "metadata": {},
   "outputs": [],
   "source": [
    "@pytest.mark.asyncio\n",
    "async def test_execute_with_params():\n",
    "    db = DbConnectionAsync(TEST_CONN_STRING)\n",
    "    await db.connect()\n",
    "\n",
    "    # Create a table\n",
    "    await db.execute(\"CREATE TABLE test (id INTEGER PRIMARY KEY, name TEXT)\")\n",
    "    await db.execute(\"INSERT INTO test (name) VALUES (:name)\", name=\"Alice\")\n",
    "\n",
    "    # Query back\n",
    "    result = await db.execute(\"SELECT name FROM test WHERE name=:name\", name=\"Alice\")\n",
    "    row = result.fetchone()\n",
    "    assert row[0] == \"Alice\"\n",
    "\n",
    "    await db.close()"
   ]
  },
  {
   "cell_type": "code",
   "execution_count": 7,
   "id": "65b78cf9",
   "metadata": {},
   "outputs": [],
   "source": [
    "@pytest.mark.asyncio\n",
    "async def test_auto_close_after_timeout():\n",
    "    db = DbConnectionAsync(TEST_CONN_STRING, timeout=1)\n",
    "    await db.connect()\n",
    "    assert not db.conn.closed\n",
    "\n",
    "    # Wait for timeout to trigger\n",
    "    await asyncio.sleep(1.5)\n",
    "    assert db.conn is None or db.conn.closed"
   ]
  },
  {
   "cell_type": "code",
   "execution_count": 8,
   "id": "8cdbf951",
   "metadata": {},
   "outputs": [],
   "source": [
    "@pytest.mark.asyncio\n",
    "async def test_reconnect_after_close():\n",
    "    db = DbConnectionAsync(TEST_CONN_STRING, timeout=1)\n",
    "    await db.connect()\n",
    "    await db.close()\n",
    "\n",
    "    # Should reconnect automatically on execute\n",
    "    result = await db.execute(\"SELECT 42\")\n",
    "    row = result.fetchone()\n",
    "    assert row[0] == 42\n",
    "    await db.close()"
   ]
  },
  {
   "cell_type": "code",
   "execution_count": null,
   "id": "b6bb54bd",
   "metadata": {},
   "outputs": [],
   "source": [
    "@pytest.mark.asyncio\n",
    "async def test_context_manager():\n",
    "    async with DbConnectionAsync(TEST_CONN_STRING) as db:\n",
    "        result = await db.execute(\"SELECT 99\")\n",
    "        row = result.fetchone()\n",
    "        assert row[0] == 99\n",
    "\n",
    "    assert db.conn is None or db.conn.closed"
   ]
  },
  {
   "cell_type": "code",
   "execution_count": 10,
   "id": "70907141",
   "metadata": {},
   "outputs": [
    {
     "name": "stdout",
     "output_type": "stream",
     "text": [
      "✅ All tests ran successfully\n"
     ]
    },
    {
     "name": "stderr",
     "output_type": "stream",
     "text": [
      "C:\\Users\\vinh8744\\AppData\\Local\\Temp\\ipykernel_12292\\994545113.py:1: RuntimeWarning: coroutine 'test_connect_and_close' was never awaited\n",
      "  test_connect_and_close()\n",
      "RuntimeWarning: Enable tracemalloc to get the object allocation traceback\n",
      "C:\\Users\\vinh8744\\AppData\\Local\\Temp\\ipykernel_12292\\994545113.py:2: RuntimeWarning: coroutine 'test_execute_creates_connection' was never awaited\n",
      "  test_execute_creates_connection()\n",
      "RuntimeWarning: Enable tracemalloc to get the object allocation traceback\n",
      "C:\\Users\\vinh8744\\AppData\\Local\\Temp\\ipykernel_12292\\994545113.py:3: RuntimeWarning: coroutine 'test_execute_with_params' was never awaited\n",
      "  test_execute_with_params()\n",
      "RuntimeWarning: Enable tracemalloc to get the object allocation traceback\n",
      "C:\\Users\\vinh8744\\AppData\\Local\\Temp\\ipykernel_12292\\994545113.py:4: RuntimeWarning: coroutine 'test_auto_close_after_timeout' was never awaited\n",
      "  test_auto_close_after_timeout()\n",
      "RuntimeWarning: Enable tracemalloc to get the object allocation traceback\n",
      "C:\\Users\\vinh8744\\AppData\\Local\\Temp\\ipykernel_12292\\994545113.py:5: RuntimeWarning: coroutine 'test_reconnect_after_close' was never awaited\n",
      "  test_reconnect_after_close()\n",
      "RuntimeWarning: Enable tracemalloc to get the object allocation traceback\n",
      "C:\\Users\\vinh8744\\AppData\\Local\\Temp\\ipykernel_12292\\994545113.py:6: RuntimeWarning: coroutine 'test_context_manager' was never awaited\n",
      "  test_context_manager()\n",
      "RuntimeWarning: Enable tracemalloc to get the object allocation traceback\n"
     ]
    }
   ],
   "source": [
    "test_connect_and_close()\n",
    "test_execute_creates_connection()\n",
    "test_execute_with_params()\n",
    "test_auto_close_after_timeout()\n",
    "test_reconnect_after_close()\n",
    "test_context_manager()\n",
    "\n",
    "print(\"✅ All tests ran successfully\")"
   ]
  }
 ],
 "metadata": {
  "kernelspec": {
   "display_name": ".venv",
   "language": "python",
   "name": "python3"
  },
  "language_info": {
   "codemirror_mode": {
    "name": "ipython",
    "version": 3
   },
   "file_extension": ".py",
   "mimetype": "text/x-python",
   "name": "python",
   "nbconvert_exporter": "python",
   "pygments_lexer": "ipython3",
   "version": "3.13.5"
  }
 },
 "nbformat": 4,
 "nbformat_minor": 5
}
