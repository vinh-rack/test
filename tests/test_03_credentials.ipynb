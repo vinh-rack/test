{
 "cells": [
  {
   "cell_type": "markdown",
   "id": "2044acc8",
   "metadata": {},
   "source": [
    "# **Credential Loading Tests**\n",
    "\n",
    "---"
   ]
  },
  {
   "cell_type": "markdown",
   "id": "a82e748d",
   "metadata": {},
   "source": [
    "## **1. Imports**"
   ]
  },
  {
   "cell_type": "code",
   "execution_count": 1,
   "id": "24acbfeb",
   "metadata": {},
   "outputs": [],
   "source": [
    "import os\n",
    "import sys\n",
    "\n",
    "sys.path.append(os.path.abspath(os.path.join(os.getcwd(), '..')))"
   ]
  },
  {
   "cell_type": "code",
   "execution_count": 2,
   "id": "92d54ba5",
   "metadata": {},
   "outputs": [],
   "source": [
    "import json\n",
    "\n",
    "from utils.config import settings\n",
    "from proxy.app import store_db_credentials, store_sn_credentials, retrieve_credentials, delete_credentials, get_connection_string"
   ]
  },
  {
   "cell_type": "markdown",
   "id": "abbcd61b",
   "metadata": {},
   "source": [
    "## **2. Tests**"
   ]
  },
  {
   "cell_type": "markdown",
   "id": "e005222e",
   "metadata": {},
   "source": [
    "### *2.1. Retrieving Credentials*"
   ]
  },
  {
   "cell_type": "code",
   "execution_count": 3,
   "id": "d5453d5c",
   "metadata": {},
   "outputs": [],
   "source": [
    "db_uuid = \"104d10c3-a765-4fb9-bd70-ebcf34c34c7d\"\n",
    "sn_uuid = \"7c23ff3f-9a71-41c5-8947-992a647be69f\""
   ]
  },
  {
   "cell_type": "code",
   "execution_count": 4,
   "id": "12f5f689",
   "metadata": {},
   "outputs": [],
   "source": [
    "db_creds = retrieve_credentials(\n",
    "    uuid=db_uuid,\n",
    "    cred_type=\"db\",\n",
    "    vault=False\n",
    ")\n",
    "\n",
    "sn_creds = retrieve_credentials(\n",
    "    uuid=sn_uuid,\n",
    "    cred_type=\"servicenow\",\n",
    "    vault=False\n",
    ")"
   ]
  },
  {
   "cell_type": "code",
   "execution_count": 5,
   "id": "d99afd5c",
   "metadata": {},
   "outputs": [
    {
     "name": "stdout",
     "output_type": "stream",
     "text": [
      "{\n",
      "    \"db_type\": \"mssql\",\n",
      "    \"host\": \"sqlpreview\",\n",
      "    \"username\": \"sa\",\n",
      "    \"password\": \"R@ckspace123!\",\n",
      "    \"port\": 1433,\n",
      "    \"database\": \"master\"\n",
      "}\n"
     ]
    }
   ],
   "source": [
    "print(json.dumps(db_creds, indent=4))"
   ]
  },
  {
   "cell_type": "code",
   "execution_count": 6,
   "id": "5cb61760",
   "metadata": {},
   "outputs": [
    {
     "name": "stdout",
     "output_type": "stream",
     "text": [
      "{\n",
      "    \"instance_url\": \"https://dev347064.service-now.com/\",\n",
      "    \"username\": \"admin\",\n",
      "    \"password\": \"ks0V5ZTC=-va\"\n",
      "}\n"
     ]
    }
   ],
   "source": [
    "print(json.dumps(sn_creds, indent=4))"
   ]
  },
  {
   "cell_type": "markdown",
   "id": "c998517a",
   "metadata": {},
   "source": [
    "### *2.2. Handling New Credentials*"
   ]
  },
  {
   "cell_type": "code",
   "execution_count": 7,
   "id": "b8447a00",
   "metadata": {},
   "outputs": [
    {
     "name": "stdout",
     "output_type": "stream",
     "text": [
      "[\n",
      "    {\n",
      "        \"uuid\": \"7c23ff3f-9a71-41c5-8947-992a647be69f\",\n",
      "        \"name\": \"ServiceNow Credentials\",\n",
      "        \"type\": \"servicenow\",\n",
      "        \"key\": \"servicenow_cred\",\n",
      "        \"value\": {\n",
      "            \"instance_url\": \"https://dev347064.service-now.com/\",\n",
      "            \"username\": \"admin\",\n",
      "            \"password\": \"ks0V5ZTC=-va\"\n",
      "        }\n",
      "    }\n",
      "]\n"
     ]
    }
   ],
   "source": [
    "print(json.dumps(settings.sn_credentials, indent=4))"
   ]
  },
  {
   "cell_type": "code",
   "execution_count": 8,
   "id": "d72dc94d",
   "metadata": {},
   "outputs": [],
   "source": [
    "sample_uuid = store_sn_credentials(\n",
    "    name=\"Sample SN Creds\",\n",
    "    instance_url=\"https://dev809099.service-now.com/\",\n",
    "    username=\"admina\",\n",
    "    password=\"lomeihweo\",\n",
    "    vault=False\n",
    ")"
   ]
  },
  {
   "cell_type": "code",
   "execution_count": 9,
   "id": "0459a84c",
   "metadata": {},
   "outputs": [
    {
     "name": "stdout",
     "output_type": "stream",
     "text": [
      "[\n",
      "    {\n",
      "        \"uuid\": \"7c23ff3f-9a71-41c5-8947-992a647be69f\",\n",
      "        \"name\": \"ServiceNow Credentials\",\n",
      "        \"type\": \"servicenow\",\n",
      "        \"key\": \"servicenow_cred\",\n",
      "        \"value\": {\n",
      "            \"instance_url\": \"https://dev347064.service-now.com/\",\n",
      "            \"username\": \"admin\",\n",
      "            \"password\": \"ks0V5ZTC=-va\"\n",
      "        }\n",
      "    },\n",
      "    {\n",
      "        \"uuid\": \"0763f4ae-1579-4a27-afab-cd19e24324e5\",\n",
      "        \"name\": \"Sample SN Creds\",\n",
      "        \"type\": \"servicenow\",\n",
      "        \"key\": \"sn_admina\",\n",
      "        \"value\": {\n",
      "            \"instance_url\": \"https://dev809099.service-now.com/\",\n",
      "            \"username\": \"admina\",\n",
      "            \"password\": \"lomeihweo\"\n",
      "        }\n",
      "    }\n",
      "]\n"
     ]
    }
   ],
   "source": [
    "print(json.dumps(settings.sn_credentials, indent=4))"
   ]
  },
  {
   "cell_type": "code",
   "execution_count": 10,
   "id": "76f14af4",
   "metadata": {},
   "outputs": [],
   "source": [
    "delete_credentials(\n",
    "    uuid=sample_uuid,\n",
    "    cred_type=\"servicenow\",\n",
    "    vault=False\n",
    ")"
   ]
  },
  {
   "cell_type": "code",
   "execution_count": 11,
   "id": "fbf6828e",
   "metadata": {},
   "outputs": [
    {
     "name": "stdout",
     "output_type": "stream",
     "text": [
      "[\n",
      "    {\n",
      "        \"uuid\": \"7c23ff3f-9a71-41c5-8947-992a647be69f\",\n",
      "        \"name\": \"ServiceNow Credentials\",\n",
      "        \"type\": \"servicenow\",\n",
      "        \"key\": \"servicenow_cred\",\n",
      "        \"value\": {\n",
      "            \"instance_url\": \"https://dev347064.service-now.com/\",\n",
      "            \"username\": \"admin\",\n",
      "            \"password\": \"ks0V5ZTC=-va\"\n",
      "        }\n",
      "    }\n",
      "]\n"
     ]
    }
   ],
   "source": [
    "print(json.dumps(settings.sn_credentials, indent=4))"
   ]
  },
  {
   "cell_type": "markdown",
   "id": "7ffb5ad3",
   "metadata": {},
   "source": [
    "### *2.3. Getting Connection String*"
   ]
  },
  {
   "cell_type": "code",
   "execution_count": 12,
   "id": "45961164",
   "metadata": {},
   "outputs": [],
   "source": [
    "conn_string = get_connection_string(\n",
    "    uuid=db_uuid,\n",
    "    vault=False\n",
    ")"
   ]
  },
  {
   "cell_type": "code",
   "execution_count": 13,
   "id": "0ba2584f",
   "metadata": {},
   "outputs": [
    {
     "name": "stdout",
     "output_type": "stream",
     "text": [
      "[\n",
      "    \"mssql+aioodbc\",\n",
      "    \"sa\",\n",
      "    \"R@ckspace123!\",\n",
      "    \"sqlpreview\",\n",
      "    1433,\n",
      "    \"master\",\n",
      "    {\n",
      "        \"driver\": \"ODBC Driver 18 for SQL Server\",\n",
      "        \"TrustServerCertificate\": \"yes\"\n",
      "    }\n",
      "]\n"
     ]
    }
   ],
   "source": [
    "print(json.dumps(conn_string, indent=4))"
   ]
  }
 ],
 "metadata": {
  "kernelspec": {
   "display_name": ".venv",
   "language": "python",
   "name": "python3"
  },
  "language_info": {
   "codemirror_mode": {
    "name": "ipython",
    "version": 3
   },
   "file_extension": ".py",
   "mimetype": "text/x-python",
   "name": "python",
   "nbconvert_exporter": "python",
   "pygments_lexer": "ipython3",
   "version": "3.13.5"
  }
 },
 "nbformat": 4,
 "nbformat_minor": 5
}
