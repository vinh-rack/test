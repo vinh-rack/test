{
 "cells": [
  {
   "cell_type": "markdown",
   "id": "aca4a8b0",
   "metadata": {},
   "source": [
    "# **Database Function Tests**\n",
    "\n",
    "---"
   ]
  },
  {
   "cell_type": "markdown",
   "id": "e06e8d98",
   "metadata": {},
   "source": [
    "## **1. Imports**"
   ]
  },
  {
   "cell_type": "code",
   "execution_count": 1,
   "id": "aefe92fc",
   "metadata": {},
   "outputs": [],
   "source": [
    "import os\n",
    "import sys\n",
    "import asyncio\n",
    "\n",
    "sys.path.append(os.path.abspath(os.path.join(os.getcwd(), \"..\")))"
   ]
  },
  {
   "cell_type": "code",
   "execution_count": null,
   "id": "74d2e370",
   "metadata": {},
   "outputs": [],
   "source": [
    "from proxy.app import (create_connection_string, \n",
    "                       create_connection, \n",
    "                       check_log_space, \n",
    "                       check_blocking_sessions, \n",
    "                       check_health, \n",
    "                       check_db_size, \n",
    "                       check_index_fragmentation)\n",
    "from utils.config import settings"
   ]
  },
  {
   "cell_type": "markdown",
   "id": "d3a4cb56",
   "metadata": {},
   "source": [
    "## **2. Tests**"
   ]
  },
  {
   "cell_type": "code",
   "execution_count": null,
   "id": "d384e847",
   "metadata": {},
   "outputs": [],
   "source": [
    "conn_string = create_connection_string(\n",
    "    db_type=\"mssql\",\n",
    "    database=settings.mssql_db,\n",
    "    host=settings.host,\n",
    "    port=int(settings.mssql_port),\n",
    "    user=settings.user,\n",
    "    password=settings.mssql_password,\n",
    ")"
   ]
  },
  {
   "cell_type": "code",
   "execution_count": 4,
   "id": "d0a368f0",
   "metadata": {},
   "outputs": [],
   "source": [
    "db_conn = create_connection(conn_string)"
   ]
  },
  {
   "cell_type": "code",
   "execution_count": 5,
   "id": "3fec7050",
   "metadata": {},
   "outputs": [],
   "source": [
    "def print_result(result):\n",
    "    for row in result:\n",
    "        print(row)"
   ]
  },
  {
   "cell_type": "markdown",
   "id": "77c35bed",
   "metadata": {},
   "source": [
    "### *2.1. Log Space*"
   ]
  },
  {
   "cell_type": "code",
   "execution_count": 6,
   "id": "8f53237f",
   "metadata": {},
   "outputs": [
    {
     "name": "stderr",
     "output_type": "stream",
     "text": [
      "Connection dropped, reconnecting... ('NoneType' object has no attribute 'execute')\n",
      "Connection closed due to inactivity\n",
      "<sys>:0: SAWarning: Unrecognized server version info '17.0.900.7'.  Some SQL Server features may not function properly.\n",
      "Reconnected to database successfully\n",
      "Log Space query executed successfully\n"
     ]
    },
    {
     "name": "stdout",
     "output_type": "stream",
     "text": [
      "('master', 1.9921875, 69.60784149169922, 0)\n",
      "('tempdb', 7.9921875, 17.88856315612793, 0)\n",
      "('model', 7.9921875, 6.500488758087158, 0)\n",
      "('msdb', 0.7421875, 95.2631607055664, 0)\n",
      "('Sachin', 7.9921875, 13.098729133605957, 0)\n",
      "('Kartar', 7.9921875, 30.303030014038086, 0)\n",
      "('test1', 7.9921875, 27.419355392456055, 0)\n",
      "('test2', 7.9921875, 28.39687156677246, 0)\n",
      "('model_msdb', 0.7421875, 48.421051025390625, 0)\n",
      "('model_replicatedmaster', 1.9921875, 47.25490188598633, 0)\n"
     ]
    }
   ],
   "source": [
    "test_1 = await check_log_space(db_conn)\n",
    "print_result(test_1)"
   ]
  },
  {
   "cell_type": "markdown",
   "id": "168241ee",
   "metadata": {},
   "source": [
    "### *2.2. Blocking Sessions*"
   ]
  },
  {
   "cell_type": "code",
   "execution_count": 7,
   "id": "e189969d",
   "metadata": {},
   "outputs": [
    {
     "name": "stderr",
     "output_type": "stream",
     "text": [
      "Connection dropped, reconnecting... ((pyodbc.Error) ('HY000', '[HY000] [Microsoft][ODBC Driver 18 for SQL Server]Connection is busy with results for another command (0) (SQLExecDirectW)')\n",
      "[SQL: SELECT\n",
      "    blocking_session_id AS BlockingSessionID,\n",
      "    session_id AS BlockedSessionID,\n",
      "    wait_type,\n",
      "    wait_time,\n",
      "    wait_resource\n",
      "FROM sys.dm_exec_requests\n",
      "WHERE blocking_session_id <> 0;]\n",
      "(Background on this error at: https://sqlalche.me/e/20/dbapi))\n",
      "Connection closed due to inactivity\n",
      "Reconnected to database successfully\n",
      "Blocking Sessions query executed successfully\n"
     ]
    }
   ],
   "source": [
    "test_2 = await check_blocking_sessions(db_conn)\n",
    "print_result(test_2)"
   ]
  },
  {
   "cell_type": "markdown",
   "id": "37826890",
   "metadata": {},
   "source": [
    "### *2.3. Health Check*"
   ]
  },
  {
   "cell_type": "code",
   "execution_count": 8,
   "id": "2d9c63e9",
   "metadata": {},
   "outputs": [
    {
     "name": "stderr",
     "output_type": "stream",
     "text": [
      "Health check query executed successfully\n"
     ]
    },
    {
     "name": "stdout",
     "output_type": "stream",
     "text": [
      "('{\"ServerInfo\":\"{\\\\\"HostName\\\\\":\\\\\"sqlpreview\\\\\",\\\\\"InstanceName\\\\\":\\\\\"sqlpreview\\\\\",\\\\\"SqlVersion\\\\\":\\\\\"Unknown (17.0.900.7)\\\\\",\\\\\"Edition\\\\\":\\\\\"Ente ... (1606 characters truncated) ... t1\\\\\",\\\\\"SchemaName\\\\\":\\\\\"dbo\\\\\",\\\\\"TableName\\\\\":\\\\\"abc\\\\\",\\\\\"TotalRows\\\\\":0,\\\\\"TotalSpaceGB\\\\\":0.0,\\\\\"UsedSpaceGB\\\\\":0.0,\\\\\"UnusedSpaceGB\\\\\":0.0}]\"}',)\n"
     ]
    }
   ],
   "source": [
    "test_3 = await check_health(db_conn)\n",
    "print_result(test_3)"
   ]
  },
  {
   "cell_type": "markdown",
   "id": "91ff3f84",
   "metadata": {},
   "source": [
    "### *2.4. DB Size*"
   ]
  },
  {
   "cell_type": "code",
   "execution_count": 9,
   "id": "48286213",
   "metadata": {},
   "outputs": [
    {
     "name": "stderr",
     "output_type": "stream",
     "text": [
      "DB Size query executed successfully\n"
     ]
    },
    {
     "name": "stdout",
     "output_type": "stream",
     "text": [
      "('master', 'master', 'ROWS', 4)\n",
      "('master', 'mastlog', 'LOG', 2)\n"
     ]
    }
   ],
   "source": [
    "test_4 = await check_db_size(db_conn, db_name=settings.mssql_db)\n",
    "print_result(test_4)"
   ]
  },
  {
   "cell_type": "markdown",
   "id": "2986bf5b",
   "metadata": {},
   "source": [
    "### *2.5. Index Frag*"
   ]
  },
  {
   "cell_type": "code",
   "execution_count": null,
   "id": "2126360c",
   "metadata": {},
   "outputs": [
    {
     "name": "stderr",
     "output_type": "stream",
     "text": [
      "Index Fragmentation query executed successfully\n"
     ]
    },
    {
     "name": "stderr",
     "output_type": "stream",
     "text": [
      "Connection closed due to inactivity\n",
      "Connection closed due to inactivity\n"
     ]
    }
   ],
   "source": [
    "test_5 = await check_index_fragmentation(db_conn, db_name=settings.mssql_db)\n",
    "print_result(test_5)"
   ]
  }
 ],
 "metadata": {
  "kernelspec": {
   "display_name": ".venv",
   "language": "python",
   "name": "python3"
  },
  "language_info": {
   "codemirror_mode": {
    "name": "ipython",
    "version": 3
   },
   "file_extension": ".py",
   "mimetype": "text/x-python",
   "name": "python",
   "nbconvert_exporter": "python",
   "pygments_lexer": "ipython3",
   "version": "3.13.5"
  }
 },
 "nbformat": 4,
 "nbformat_minor": 5
}
