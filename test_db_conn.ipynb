{
 "cells": [
  {
   "cell_type": "code",
   "execution_count": 11,
   "id": "de5f2cc2",
   "metadata": {},
   "outputs": [],
   "source": [
    "import os\n",
    "import urllib\n",
    "import pyodbc\n",
    "\n",
    "from sqlalchemy import create_engine, text, URL\n",
    "\n",
    "from utils.logger import setup_logger\n",
    "from utils.config import settings"
   ]
  },
  {
   "cell_type": "code",
   "execution_count": 12,
   "id": "de3d6463",
   "metadata": {},
   "outputs": [],
   "source": [
    "logger = setup_logger(\"testing\", \"test.log\")"
   ]
  },
  {
   "cell_type": "code",
   "execution_count": 13,
   "id": "2438d00e",
   "metadata": {},
   "outputs": [
    {
     "name": "stdout",
     "output_type": "stream",
     "text": [
      "['SQL Server', 'Microsoft Access Driver (*.mdb, *.accdb)', 'Microsoft Excel Driver (*.xls, *.xlsx, *.xlsm, *.xlsb)', 'Microsoft Access Text Driver (*.txt, *.csv)', 'Microsoft Access dBASE Driver (*.dbf, *.ndx, *.mdx)', 'ODBC Driver 18 for SQL Server']\n"
     ]
    }
   ],
   "source": [
    "print(pyodbc.drivers())"
   ]
  },
  {
   "cell_type": "code",
   "execution_count": 14,
   "id": "24e0f5a5",
   "metadata": {},
   "outputs": [],
   "source": [
    "user = \"sa\"\n",
    "password = settings.password\n",
    "password_enc = urllib.parse.quote_plus(settings.password)\n",
    "host = \"3.109.246.243\"\n",
    "port=\"1433\"\n",
    "database = \"master\"\n",
    "driver='ODBC Driver 18 for SQL Server'\n",
    "driver_enc = urllib.parse.quote_plus(driver)"
   ]
  },
  {
   "cell_type": "code",
   "execution_count": 15,
   "id": "a0963844",
   "metadata": {},
   "outputs": [],
   "source": [
    "connection_string = URL.create(\n",
    "    \"mssql+pyodbc\",\n",
    "    username=user,\n",
    "    password=password,\n",
    "    host=host,\n",
    "    port=port,\n",
    "    database=database,\n",
    "    query={\n",
    "        \"driver\": \"ODBC Driver 18 for SQL Server\",\n",
    "        \"TrustServerCertificate\": \"yes\",\n",
    "    },\n",
    ")"
   ]
  },
  {
   "cell_type": "code",
   "execution_count": 16,
   "id": "f2790096",
   "metadata": {},
   "outputs": [],
   "source": [
    "# odbc_str = (\n",
    "#     f\"DRIVER={driver_enc};\"\n",
    "#     f\"SERVER={host};\"\n",
    "#     f\"DATABASE={database};\"\n",
    "#     f\"UID={user};\"\n",
    "#     f\"PWD={password};\"\n",
    "#     f\"Encrypt=yes;\"\n",
    "#     f\"TrustServerCertificate=yes;\"\n",
    "# )\n",
    "\n",
    "# connection_uri = \"mssql+pyodbc:///?odbc_connect=\" + urllib.parse.quote_plus(odbc_str)"
   ]
  },
  {
   "cell_type": "code",
   "execution_count": 17,
   "id": "048e3f97",
   "metadata": {},
   "outputs": [],
   "source": [
    "engine = create_engine(connection_string)\n",
    "# engine = create_engine(connection_uri)"
   ]
  },
  {
   "cell_type": "code",
   "execution_count": 28,
   "id": "beade574",
   "metadata": {},
   "outputs": [],
   "source": [
    "raw_query = open(\"./queries/log_space.sql\").read()"
   ]
  },
  {
   "cell_type": "code",
   "execution_count": 29,
   "id": "4256b858",
   "metadata": {},
   "outputs": [],
   "source": [
    "query = text(raw_query)"
   ]
  },
  {
   "cell_type": "code",
   "execution_count": null,
   "id": "b9d0ed5a",
   "metadata": {},
   "outputs": [],
   "source": [
    "with engine.connect() as conn:\n",
    "    # result = conn.execute(query, {\"db_name\": \"master\"})\n",
    "    result = conn.execute(query)\n",
    "    for row in result:\n",
    "        print(row)"
   ]
  },
  {
   "cell_type": "code",
   "execution_count": 20,
   "id": "08a30f7e",
   "metadata": {},
   "outputs": [],
   "source": [
    "# if result.returns_rows:\n",
    "#     rows = [dict(row._mapping) for row in result.fetchall()]\n",
    "\n",
    "# print(rows)"
   ]
  }
 ],
 "metadata": {
  "kernelspec": {
   "display_name": ".venv",
   "language": "python",
   "name": "python3"
  },
  "language_info": {
   "codemirror_mode": {
    "name": "ipython",
    "version": 3
   },
   "file_extension": ".py",
   "mimetype": "text/x-python",
   "name": "python",
   "nbconvert_exporter": "python",
   "pygments_lexer": "ipython3",
   "version": "3.13.3"
  }
 },
 "nbformat": 4,
 "nbformat_minor": 5
}
