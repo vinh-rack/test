{
 "cells": [
  {
   "cell_type": "code",
   "execution_count": 1,
   "id": "02c88865",
   "metadata": {},
   "outputs": [],
   "source": [
    "from proxy.app import create_connection_string, create_connection\n",
    "from proxy.db_connection import DbConnection\n",
    "\n",
    "from sqlalchemy import text"
   ]
  },
  {
   "cell_type": "code",
   "execution_count": 2,
   "id": "de63bf85",
   "metadata": {},
   "outputs": [],
   "source": [
    "import os\n",
    "\n",
    "\n",
    "conn_string = create_connection_string(\n",
    "    db_type=\"postgresql\",\n",
    "    database=\"postgres\",\n",
    "    host=\"aws-0-ap-southeast-1.pooler.supabase.com\",\n",
    "    port=6543,\n",
    "    user=\"postgres.qnkvhgvmnendwyjmjsan\",\n",
    "    password=os.getenv(\"POSTGRE_PASSWORD\"),\n",
    ")"
   ]
  },
  {
   "cell_type": "code",
   "execution_count": 3,
   "id": "6f4490f0",
   "metadata": {},
   "outputs": [],
   "source": [
    "db_conn = create_connection(conn_string)"
   ]
  },
  {
   "cell_type": "code",
   "execution_count": 4,
   "id": "531ffa38",
   "metadata": {},
   "outputs": [],
   "source": [
    "# raw_query = open(\"./queries/log_space.sql\").read()\n",
    "query = \"SELECT * FROM documents LIMIT 10;\""
   ]
  },
  {
   "cell_type": "code",
   "execution_count": 5,
   "id": "f5f3eb2f",
   "metadata": {},
   "outputs": [
    {
     "name": "stdout",
     "output_type": "stream",
     "text": [
      "(UUID('b0f959f4-374e-4cdf-aa24-276d57c2d00f'), 'Statement of Account 12345678', 'Bank Statement', None, 'JAMES C. MORRISON', 'SYN_4589bd90', True, 'https://example.com/blob/url', {'Name': 'JAMES C. MORRISON', 'Page': 'Page 1 of 2', 'Notes': 'Check images are not shown for this sample statement. Statement will include check imag ... (4524 characters truncated) ... , 'Service Charges and Fees (summary)': '$12 00', 'Deposits and other credits (summary)': '$1,876 02', 'Withdrawals and other debits (summary)': None}, datetime.datetime(2025, 9, 26, 8, 48, 19, 526234), datetime.datetime(2025, 9, 26, 8, 48, 19, 526234))\n"
     ]
    }
   ],
   "source": [
    "result = db_conn.execute(query)\n",
    "for row in result:\n",
    "    print(row)"
   ]
  }
 ],
 "metadata": {
  "kernelspec": {
   "display_name": ".venv",
   "language": "python",
   "name": "python3"
  },
  "language_info": {
   "codemirror_mode": {
    "name": "ipython",
    "version": 3
   },
   "file_extension": ".py",
   "mimetype": "text/x-python",
   "name": "python",
   "nbconvert_exporter": "python",
   "pygments_lexer": "ipython3",
   "version": "3.13.5"
  }
 },
 "nbformat": 4,
 "nbformat_minor": 5
}
