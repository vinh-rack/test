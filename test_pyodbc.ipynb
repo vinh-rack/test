{
 "cells": [
  {
   "cell_type": "code",
   "execution_count": 7,
   "id": "fc637640",
   "metadata": {},
   "outputs": [],
   "source": [
    "import pyodbc\n",
    "import urllib\n",
    "\n",
    "from utils.config import settings"
   ]
  },
  {
   "cell_type": "code",
   "execution_count": 8,
   "id": "a6cebcc7",
   "metadata": {},
   "outputs": [],
   "source": [
    "user = \"sa\"\n",
    "password = settings.password\n",
    "password_enc = urllib.parse.quote_plus(settings.password)\n",
    "host = \"3.109.246.243\"\n",
    "port=\"1433\"\n",
    "database = \"master\"\n",
    "driver='ODBC Driver 18 for SQL Server'\n",
    "driver_enc = urllib.parse.quote_plus(driver)"
   ]
  },
  {
   "cell_type": "code",
   "execution_count": null,
   "id": "9fbf7377",
   "metadata": {},
   "outputs": [],
   "source": [
    "SQL_CONNECTION_STRING=\"Driver={ODBC Driver 18 for SQL Server};\" \\\n",
    "\"Server=<server_name>;\" \\\n",
    "\"Database={<database_name>};\" \\\n",
    "\"Encrypt=yes;\" \\\n",
    "\"TrustServerCertificate=yes;\" \\\n",
    "\"Authentication=ActiveDirectoryInteractive\""
   ]
  },
  {
   "cell_type": "code",
   "execution_count": null,
   "id": "73ab922d",
   "metadata": {},
   "outputs": [
    {
     "name": "stdout",
     "output_type": "stream",
     "text": [
      "row = ('master', 1.9921875, 31.176469802856445, 0)\n",
      "row = ('tempdb', 7.9921875, 14.17399787902832, 0)\n",
      "row = ('model', 7.9921875, 6.500488758087158, 0)\n",
      "row = ('msdb', 0.7421875, 85.2631607055664, 0)\n",
      "row = ('Sachin', 7.9921875, 28.29911994934082, 0)\n",
      "row = ('Kartar', 7.9921875, 21.94525909423828, 0)\n",
      "row = ('test1', 7.9921875, 19.25708770751953, 0)\n",
      "row = ('test2', 7.9921875, 20.087976455688477, 0)\n",
      "row = ('model_msdb', 0.7421875, 48.421051025390625, 0)\n",
      "row = ('model_replicatedmaster', 1.9921875, 47.25490188598633, 0)\n"
     ]
    }
   ],
   "source": [
    "cnxn = pyodbc.connect(\n",
    "    f\"Driver={driver};\"\n",
    "    f\"Server={host};\"\n",
    "    f\"Database={database};\"\n",
    "    \"TrustServerCertificate=yes;\"\n",
    "    f\"uid={user};\"\n",
    "    f\"pwd={password}\"\n",
    "    # \"authentication=ActiveDirectoryIntegrated\",\n",
    ")\n",
    "\n",
    "cursor = cnxn.cursor()\n",
    "cursor.execute('DBCC SQLPERF(LOGSPACE);')\n",
    "\n",
    "for row in cursor:\n",
    "    print('row = %r' % (row,))"
   ]
  }
 ],
 "metadata": {
  "kernelspec": {
   "display_name": ".venv",
   "language": "python",
   "name": "python3"
  },
  "language_info": {
   "codemirror_mode": {
    "name": "ipython",
    "version": 3
   },
   "file_extension": ".py",
   "mimetype": "text/x-python",
   "name": "python",
   "nbconvert_exporter": "python",
   "pygments_lexer": "ipython3",
   "version": "3.13.3"
  }
 },
 "nbformat": 4,
 "nbformat_minor": 5
}
